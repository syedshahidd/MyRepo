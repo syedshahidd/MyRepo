{
 "cells": [
  {
   "cell_type": "markdown",
   "id": "c3e73096-a4ce-41ce-8c3e-59a95b22d82e",
   "metadata": {},
   "source": [
    "## Execute it as a markdown cell\n",
    "#H1: This is a level 1 Heading\n",
    "#H2: This is a level 2 Heading\n",
    "#H3: This is a level 3 Heading\n",
    "#H4: This is a level 4 Heading\n",
    "#H5: This is a level 5 Heading\n",
    "#H6: This is a level 6 Heading"
   ]
  },
  {
   "cell_type": "markdown",
   "id": "11fdcb5c-3638-44d8-aaa8-61e2487df82b",
   "metadata": {},
   "source": [
    "# Execute it as a markdown cell\n",
    "**Bold text Using Aesterik.**\n",
    "__Bold text using underscores.__"
   ]
  },
  {
   "cell_type": "markdown",
   "id": "8ed38ba5-4190-4e8b-bb54-29755f8b259d",
   "metadata": {},
   "source": [
    "Execute it as a markdown cell\n",
    "Text in italics using asterik.\n",
    "Text in itallic using underscores"
   ]
  },
  {
   "cell_type": "markdown",
   "id": "04aed62c-0572-4e91-9183-c498fa35869f",
   "metadata": {},
   "source": [
    "# Execute it as a Markdown Cell\n",
    "***Bold and Itallic Text Using aesterik.***\n",
    "___Bold and Itallic Text Using underscores.___"
   ]
  },
  {
   "cell_type": "markdown",
   "id": "8657d59d-189a-41d3-84e8-c3048e6cd64b",
   "metadata": {},
   "source": [
    "# Execute it as a markdown cell\n",
    "[Skills Network](https://skills.network/)"
   ]
  },
  {
   "cell_type": "markdown",
   "id": "1372bc35-ebd7-4300-bfc1-fa7b8b67e619",
   "metadata": {},
   "source": [
    "# Execute it as a markdown cell\n",
    "LOGO: ![This is the skills network logo](https://cf-courses-data.s3.us.cloud-object-storage.appdomain.cloud/assets/logos/SN_web_lightmode.png)"
   ]
  },
  {
   "cell_type": "code",
   "execution_count": null,
   "id": "45aeab8c-a8d1-4db1-9d49-82e080a0ceae",
   "metadata": {},
   "outputs": [],
   "source": []
  },
  {
   "cell_type": "markdown",
   "id": "ebcb205a-f40d-4781-a10e-024b8e3a0407",
   "metadata": {},
   "source": [
    "## Execute as a markdown cell\n",
    "| Country Name | Capital |\n",
    "| ------------ | ------- |\n",
    "| United States | Washington DC |\n",
    "| Australia | Canberra |\n",
    "| India | New Delhi |"
   ]
  },
  {
   "cell_type": "markdown",
   "id": "7adfe4ca-f987-4370-9992-f72d536d607b",
   "metadata": {},
   "source": [
    "## Execute as a markdown cell\n",
    "- First item using dashes\n",
    "- Second item using dashes\n",
    "- Third item using dashes\n",
    "- Fourth item using dashes\n",
    "\n",
    "* First item using asterisks\n",
    "* Second item using asterisks\n",
    "* Third item using asterisks\n",
    "* Fourth item using asterisks\n",
    "\n",
    "+ First item using plus\n",
    "+ Second item using plus\n",
    "+ Third item using plus\n",
    "+ Fourth item using plus"
   ]
  },
  {
   "cell_type": "markdown",
   "id": "7c704be6-a8c4-4c90-bd56-22b6f72afa98",
   "metadata": {},
   "source": [
    "#### Ordered List\n",
    "\n",
    "Create an ordered list by adding line items with **numbers** followed by **periods**.\n",
    "\n",
    " <img src=\"https://cf-courses-data.s3.us.cloud-object-storage.appdomain.cloud/IBMDeveloperSkillsNetwork-DS0105EN-SkillsNetwork/labs/Labs_V4/images/list.png\">\n",
    "\n",
    "_Convert the code cell below to a markdown cell. Then recreate the ordered list displayed above and execute the code._"
   ]
  },
  {
   "cell_type": "markdown",
   "id": "8dd1be55-3444-4681-9d60-94773dca96a6",
   "metadata": {},
   "source": [
    "# Execute as a markdown cell\n",
    "1. First item\n",
    "2. Second item\n",
    "3. Third item\n",
    "4. Fourth item"
   ]
  },
  {
   "cell_type": "code",
   "execution_count": 3,
   "id": "f94024dd-296a-4c90-a3c9-1b929eec2f1a",
   "metadata": {},
   "outputs": [
    {
     "data": {
      "text/plain": [
       "2"
      ]
     },
     "execution_count": 3,
     "metadata": {},
     "output_type": "execute_result"
    }
   ],
   "source": [
    "a = 2\n",
    "a"
   ]
  },
  {
   "cell_type": "markdown",
   "id": "fcae1937-309e-4e62-bd7b-b8e5d340e031",
   "metadata": {},
   "source": [
    "##Welcome to Python programming\n",
    "Launcher:![**This is SN labs New Launcher**](https://cf-courses-data.s3.us.cloud-object-storage.appdomain.cloud/IBMDeveloperSkillsNetwork-DS0105EN-SkillsNetwork/labs/Labs_V4/images/Launcher.png)"
   ]
  },
  {
   "cell_type": "markdown",
   "id": "ec5afb08-f446-44af-afa7-d9b635c362f2",
   "metadata": {},
   "source": [
    "<a href =\"https://www.coursera.org/learn/open-source-tools-for-data-science/home/\">Tools For Data Science</a> "
   ]
  },
  {
   "cell_type": "markdown",
   "id": "70351829-d1ec-42d2-91c9-59fac23bf7bf",
   "metadata": {},
   "source": [
    "| Fruit | Quantity | Price(In Rupee) |\n",
    "| ------| -------- | --------------- |\n",
    "|Apple  |    2     |             500 |\n",
    "|Orange |    1     |             200 |\n",
    "|Mango  |    3     |            1000 |\n",
    "|Grapes |    2     |             400 |"
   ]
  },
  {
   "cell_type": "markdown",
   "id": "e8f4349e-b53a-4286-92aa-e77934a1b848",
   "metadata": {},
   "source": [
    "# Task 4: Create The Following Ordered List:\n",
    "1. Python\n",
    "2. Java\n",
    "3. C++\n",
    "4. C"
   ]
  },
  {
   "cell_type": "code",
   "execution_count": null,
   "id": "ce98260a-184b-438c-80ed-2190334d8c0c",
   "metadata": {},
   "outputs": [],
   "source": []
  }
 ],
 "metadata": {
  "kernelspec": {
   "display_name": "Python 3 (ipykernel)",
   "language": "python",
   "name": "python3"
  },
  "language_info": {
   "codemirror_mode": {
    "name": "ipython",
    "version": 3
   },
   "file_extension": ".py",
   "mimetype": "text/x-python",
   "name": "python",
   "nbconvert_exporter": "python",
   "pygments_lexer": "ipython3",
   "version": "3.12.7"
  }
 },
 "nbformat": 4,
 "nbformat_minor": 5
}
